{
  "nbformat": 4,
  "nbformat_minor": 0,
  "metadata": {
    "colab": {
      "provenance": [],
      "include_colab_link": true
    },
    "kernelspec": {
      "name": "python3",
      "display_name": "Python 3"
    },
    "language_info": {
      "name": "python"
    }
  },
  "cells": [
    {
      "cell_type": "markdown",
      "metadata": {
        "id": "view-in-github",
        "colab_type": "text"
      },
      "source": [
        "<a href=\"https://colab.research.google.com/github/Ash100/PyMol/blob/main/Generate_High_Quality_Images_with_pdb2png.ipynb\" target=\"_parent\"><img src=\"https://colab.research.google.com/assets/colab-badge.svg\" alt=\"Open In Colab\"/></a>"
      ]
    },
    {
      "cell_type": "markdown",
      "source": [
        "# PDB to High Quality PNG Figures\n",
        "My name is **Dr. Ashfaq Ahmad**, and this tutorial will help you to generate high-quality images in PNG format.\n",
        "If you have PyMOL intalled, I would recommend to follow these two tutorials,\n",
        "\n",
        "[1.Analyze and Visualize Protein-ligand Interactions](https://youtu.be/5_WQaLXcc18)\n",
        "\n",
        "[2.Generate Publication Quality Images from Protein Ligand Complexes](https://youtu.be/oJpi2OsQBBI)\n",
        "\n",
        "To learn about variety of tutorials in Bioinformatics, you can subscribe to our Youtube Channel [Bioinformatics Insights](https://www.youtube.com/@Bioinformaticsinsights)\n",
        "\n",
        "This notebook is designed for teaching purposes and is inspired from the github repository of [hgbrian](https://github.com/hgbrian).\n",
        "\n",
        "Currently, this notebook only supports structures from the PDB. I will update the notebook once fix the issue to upload structures from local computer.\n"
      ],
      "metadata": {
        "id": "V2Uv--XNYJ7J"
      }
    },
    {
      "cell_type": "markdown",
      "source": [
        "*Please Input the PDB code of your choice below*"
      ],
      "metadata": {
        "id": "7bJFOZdKexqx"
      }
    },
    {
      "cell_type": "code",
      "execution_count": null,
      "metadata": {
        "id": "fZYGT9KmEfB7",
        "cellView": "form"
      },
      "outputs": [],
      "source": [
        "#@title pdb2png\n",
        "\n",
        "PDB_id = '4EXS' #@param {type:\"string\"}"
      ]
    },
    {
      "cell_type": "markdown",
      "source": [
        "Run the below *cells* to complete cloning and Installation."
      ],
      "metadata": {
        "id": "8obHnffoe7QW"
      }
    },
    {
      "cell_type": "code",
      "source": [
        "!git clone https://github.com/hgbrian/pdb2png"
      ],
      "metadata": {
        "id": "aB2YIhdbEu5z"
      },
      "execution_count": null,
      "outputs": []
    },
    {
      "cell_type": "markdown",
      "source": [
        "install pymol without conda"
      ],
      "metadata": {
        "id": "iEYWKbW_NvEI"
      }
    },
    {
      "cell_type": "code",
      "source": [
        "!git clone https://github.com/schrodinger/pymol-open-source.git\n",
        "!git clone https://github.com/rcsb/mmtf-cpp.git\n",
        "!mv mmtf-cpp/include/mmtf* pymol-open-source/include/\n",
        "%cd /content/pymol-open-source\n",
        "!apt-get update\n",
        "!apt-get install libglew-dev\n",
        "!apt-get install libglm-dev\n",
        "!python setup.py -q install"
      ],
      "metadata": {
        "id": "9ubXT-TdFZ1H"
      },
      "execution_count": null,
      "outputs": []
    },
    {
      "cell_type": "markdown",
      "source": [
        "*Import the Required Libraries*"
      ],
      "metadata": {
        "id": "-grSUm6JfEyg"
      }
    },
    {
      "cell_type": "code",
      "source": [
        "import os\n",
        "import requests\n",
        "import time\n",
        "from random import random\n",
        "\n",
        "def download_pdb_file(pdb_id: str) -> str:\n",
        "    \"\"\"Download pdb file as a string from rcsb.org\"\"\"\n",
        "    PDB_DIR =\".\"\n",
        "    os.makedirs(PDB_DIR, exist_ok=True)\n",
        "\n",
        "    # url or pdb_id\n",
        "    if pdb_id.startswith('http'):\n",
        "        url = pdb_id\n",
        "        filename = url.split('/')[-1]\n",
        "    elif pdb_id.endswith(\".pdb\"):\n",
        "        return pdb_id\n",
        "    else:\n",
        "        if pdb_id.startswith(\"AF\"):\n",
        "            url = f\"https://alphafold.ebi.ac.uk/files/{pdb_id}-model_v3.pdb\"\n",
        "        else:\n",
        "            url = f\"http://files.rcsb.org/view/{pdb_id}.pdb\"\n",
        "        filename = f'{pdb_id}.pdb'\n",
        "\n",
        "    cache_path = os.path.join(PDB_DIR, filename)\n",
        "    if os.path.exists(cache_path):\n",
        "        return cache_path\n",
        "\n",
        "    pdb_req = requests.get(url)\n",
        "    pdb_req.raise_for_status()\n",
        "    open(cache_path, 'w').write(pdb_req.text)\n",
        "    return cache_path"
      ],
      "metadata": {
        "id": "VgAk_rHTE4Mj"
      },
      "execution_count": null,
      "outputs": []
    },
    {
      "cell_type": "code",
      "source": [
        "import pdb2png\n",
        "%cd /content/pdb2png\n",
        "!python pdb2png.py -h"
      ],
      "metadata": {
        "id": "izhvM6NXNSkE"
      },
      "execution_count": null,
      "outputs": []
    },
    {
      "cell_type": "markdown",
      "source": [
        "##Please change the PDB code in the following script"
      ],
      "metadata": {
        "id": "W3MOhzqwfMZ6"
      }
    },
    {
      "cell_type": "code",
      "source": [
        "%cd /content/pdb2png\n",
        "\n",
        "if PDB_id == '':\n",
        "  PDB_id = \"4exs\"\n",
        "\n",
        "pdb_file = download_pdb_file(PDB_id)\n",
        "!python pdb2png.py {pdb_file}"
      ],
      "metadata": {
        "id": "_imXPDtiExBL"
      },
      "execution_count": null,
      "outputs": []
    },
    {
      "cell_type": "code",
      "source": [
        "from IPython.display import Image\n",
        "Image(f\"{PDB_id}.png\")"
      ],
      "metadata": {
        "id": "PSFrEsM1I21o"
      },
      "execution_count": null,
      "outputs": []
    },
    {
      "cell_type": "code",
      "source": [
        "!python pdb2png.py {pdb_file} --render_style default_bw"
      ],
      "metadata": {
        "id": "abBQCtREaLuD"
      },
      "execution_count": null,
      "outputs": []
    },
    {
      "cell_type": "code",
      "source": [
        "from IPython.display import Image\n",
        "Image(f\"{PDB_id}.png\")"
      ],
      "metadata": {
        "id": "-ABBtcR_axj1"
      },
      "execution_count": null,
      "outputs": []
    },
    {
      "cell_type": "code",
      "source": [
        "!python pdb2png.py {pdb_file} --hetatm_color red --ligand_id X8Z --ligand_color 1,1,0 --protein_rotate 45,70,0 --render_style default"
      ],
      "metadata": {
        "id": "db6s9xi1bnB-"
      },
      "execution_count": null,
      "outputs": []
    },
    {
      "cell_type": "code",
      "source": [
        "from IPython.display import Image\n",
        "Image(f\"{PDB_id}.png\")"
      ],
      "metadata": {
        "id": "R1ZjKzD2b5wl"
      },
      "execution_count": null,
      "outputs": []
    },
    {
      "cell_type": "code",
      "source": [
        "!python pdb2png.py {pdb_file}"
      ],
      "metadata": {
        "id": "UK_9UyIickjE"
      },
      "execution_count": null,
      "outputs": []
    },
    {
      "cell_type": "code",
      "source": [
        "from IPython.display import Image\n",
        "Image(f\"{PDB_id}.png\")"
      ],
      "metadata": {
        "id": "6ev-yI3PdJVi"
      },
      "execution_count": null,
      "outputs": []
    },
    {
      "cell_type": "markdown",
      "source": [
        "### In some case, like rotation etc you have to spent some time for finding the best pose and scene.\n",
        "\n",
        "*Good Luck*"
      ],
      "metadata": {
        "id": "7Z4BG_gyfcvZ"
      }
    }
  ]
}